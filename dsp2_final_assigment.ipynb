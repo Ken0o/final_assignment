{
 "cells": [
  {
   "cell_type": "markdown",
   "metadata": {},
   "source": [
    "# 自分で育てた馬を有馬記念に\n",
    "**説明変数**\n",
    "* グラウンド\n",
    "* 馬場の状態\n",
    "* 距離\n",
    "* 天候\n",
    "* どっち周りか\n",
    "* 騎手の名前\n",
    "\n",
    "**目的変数**\n",
    "* タイム\n",
    "\n",
    "**やることの想定**\n",
    "* まずはスクレイピングで今回出馬した馬の上記の変数を取り出す。(今回はめんどくさいので1,2,3位の馬の情報のみ抽出することにする)\n",
    "* その後機械学習によってそれぞれのタイムを機械学習によって推測させる。"
   ]
  },
  {
   "cell_type": "code",
   "execution_count": null,
   "metadata": {},
   "outputs": [],
   "source": [
    "# スクレイピング\n",
    "from bs4 import BeautifulSoup\n",
    "# HTTP操作用\n",
    "import requests \n",
    "# サーバーに負担をかけないようにする\n",
    "import time\n",
    "# csvを作るために使うよ\n",
    "import csv\n",
    "# 考察に使うやつ\n",
    "import pandas as pd\n",
    "import numpy as np\n",
    "import matplotlib.pyplot as plt"
   ]
  },
  {
   "cell_type": "code",
   "execution_count": null,
   "metadata": {},
   "outputs": [],
   "source": []
  }
 ],
 "metadata": {
  "kernelspec": {
   "display_name": "Python 3",
   "language": "python",
   "name": "python3"
  },
  "language_info": {
   "codemirror_mode": {
    "name": "ipython",
    "version": 3
   },
   "file_extension": ".py",
   "mimetype": "text/x-python",
   "name": "python",
   "nbconvert_exporter": "python",
   "pygments_lexer": "ipython3",
   "version": "3.11.5"
  }
 },
 "nbformat": 4,
 "nbformat_minor": 2
}
